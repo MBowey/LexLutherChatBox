{
 "cells": [
  {
   "cell_type": "code",
   "execution_count": 1,
   "metadata": {},
   "outputs": [
    {
     "name": "stderr",
     "output_type": "stream",
     "text": [
      "[nltk_data] Downloading package wordnet to /Users/mbowey/nltk_data...\n",
      "[nltk_data]   Package wordnet is already up-to-date!\n",
      "[nltk_data] Downloading package vader_lexicon to\n",
      "[nltk_data]     /Users/mbowey/nltk_data...\n",
      "[nltk_data]   Package vader_lexicon is already up-to-date!\n"
     ]
    }
   ],
   "source": [
    "# Initial imports\n",
    "import os\n",
    "import pandas as pd\n",
    "from dotenv import load_dotenv\n",
    "import nltk as nltk\n",
    "nltk.download('wordnet')\n",
    "nltk.download('vader_lexicon')\n",
    "from nltk.sentiment.vader import SentimentIntensityAnalyzer\n",
    "analyzer = SentimentIntensityAnalyzer()"
   ]
  },
  {
   "cell_type": "code",
   "execution_count": 2,
   "metadata": {},
   "outputs": [
    {
     "data": {
      "text/plain": [
       "True"
      ]
     },
     "execution_count": 2,
     "metadata": {},
     "output_type": "execute_result"
    }
   ],
   "source": [
    "load_dotenv(\" \")"
   ]
  },
  {
   "cell_type": "code",
   "execution_count": 3,
   "metadata": {},
   "outputs": [
    {
     "data": {
      "text/plain": [
       "str"
      ]
     },
     "execution_count": 3,
     "metadata": {},
     "output_type": "execute_result"
    }
   ],
   "source": [
    "from newsapi import NewsApiClient\n",
    "\n",
    "newsapi_key = os.getenv('news_api')\n",
    "newsapi = NewsApiClient(api_key=newsapi_key)\n",
    "\n",
    "# TEST:\n",
    "type(newsapi_key)"
   ]
  },
  {
   "cell_type": "code",
   "execution_count": 4,
   "metadata": {},
   "outputs": [],
   "source": [
    "investment = \"bitcoin\""
   ]
  },
  {
   "cell_type": "code",
   "execution_count": 5,
   "metadata": {},
   "outputs": [],
   "source": [
    "def getHeadline(ticker):\n",
    "    return newsapi.get_everything(\n",
    "        q=ticker,\n",
    "        language=\"en\",\n",
    "        page_size=100,\n",
    "        sort_by=\"relevancy\"\n",
    "    )\n",
    "\n",
    "\n",
    "\n",
    "# TEST:\n",
    "top_headlines = getHeadline(investment)"
   ]
  },
  {
   "cell_type": "code",
   "execution_count": 6,
   "metadata": {},
   "outputs": [
    {
     "data": {
      "text/plain": [
       "{'source': {'id': 'the-verge', 'name': 'The Verge'},\n",
       " 'author': 'Richard Lawler',\n",
       " 'title': 'Kaseya ransomware attackers demand $70 million, claim they infected over a million devices',\n",
       " 'description': 'Three days after ransomware attackers hijacked a managed services platform, recovery efforts continued. The REvil group is reportedly asking for as much as $70 million in Bitcoin to unlock the more than 1 million devices infected.',\n",
       " 'url': 'https://www.theverge.com/2021/7/5/22564054/ransomware-revil-kaseya-coop',\n",
       " 'urlToImage': 'https://cdn.vox-cdn.com/thumbor/nk-drxT0WYuHTTAQw6MhPgi4LK8=/0x146:2040x1214/fit-in/1200x630/cdn.vox-cdn.com/uploads/chorus_asset/file/8792137/acastro_170629_1777_0008_v2.jpg',\n",
       " 'publishedAt': '2021-07-05T19:45:10Z',\n",
       " 'content': 'Filed under:\\r\\nThe supply chain attack has reached over a thousand organizations.\\r\\nIllustration by Alex Castro / The Verge\\r\\nThree days after ransomware attackers started the holiday weekend by comprom… [+3376 chars]'}"
      ]
     },
     "execution_count": 6,
     "metadata": {},
     "output_type": "execute_result"
    }
   ],
   "source": [
    "top_headlines['articles'][0]"
   ]
  },
  {
   "cell_type": "code",
   "execution_count": 7,
   "metadata": {},
   "outputs": [
    {
     "data": {
      "text/html": [
       "<div>\n",
       "<style scoped>\n",
       "    .dataframe tbody tr th:only-of-type {\n",
       "        vertical-align: middle;\n",
       "    }\n",
       "\n",
       "    .dataframe tbody tr th {\n",
       "        vertical-align: top;\n",
       "    }\n",
       "\n",
       "    .dataframe thead th {\n",
       "        text-align: right;\n",
       "    }\n",
       "</style>\n",
       "<table border=\"1\" class=\"dataframe\">\n",
       "  <thead>\n",
       "    <tr style=\"text-align: right;\">\n",
       "      <th></th>\n",
       "      <th>title</th>\n",
       "      <th>text</th>\n",
       "      <th>compound</th>\n",
       "      <th>positive</th>\n",
       "      <th>negative</th>\n",
       "      <th>neutral</th>\n",
       "    </tr>\n",
       "    <tr>\n",
       "      <th>date</th>\n",
       "      <th></th>\n",
       "      <th></th>\n",
       "      <th></th>\n",
       "      <th></th>\n",
       "      <th></th>\n",
       "      <th></th>\n",
       "    </tr>\n",
       "  </thead>\n",
       "  <tbody>\n",
       "    <tr>\n",
       "      <th>2021-07-15T16:25:09Z</th>\n",
       "      <td>Cathie Wood doubles down on defense of bitcoin...</td>\n",
       "      <td>ARK Invest\\r\\nCathie Wood doubled down on her ...</td>\n",
       "      <td>-0.3400</td>\n",
       "      <td>0.045</td>\n",
       "      <td>0.087</td>\n",
       "      <td>0.868</td>\n",
       "    </tr>\n",
       "    <tr>\n",
       "      <th>2021-07-15T07:11:00Z</th>\n",
       "      <td>China's share of bitcoin mining slumped even b...</td>\n",
       "      <td>A Chinese flag is seen among representations o...</td>\n",
       "      <td>0.0000</td>\n",
       "      <td>0.000</td>\n",
       "      <td>0.000</td>\n",
       "      <td>1.000</td>\n",
       "    </tr>\n",
       "    <tr>\n",
       "      <th>2021-07-15T07:02:00Z</th>\n",
       "      <td>China's share of bitcoin mining slumped even b...</td>\n",
       "      <td>LONDON, July 15 (Reuters) - Chinas share of gl...</td>\n",
       "      <td>0.2960</td>\n",
       "      <td>0.068</td>\n",
       "      <td>0.000</td>\n",
       "      <td>0.932</td>\n",
       "    </tr>\n",
       "    <tr>\n",
       "      <th>2021-07-14T19:09:01Z</th>\n",
       "      <td>Crypto startup Phantom banks funding from Andr...</td>\n",
       "      <td>While retail investors grew more comfortable b...</td>\n",
       "      <td>0.7264</td>\n",
       "      <td>0.164</td>\n",
       "      <td>0.000</td>\n",
       "      <td>0.836</td>\n",
       "    </tr>\n",
       "    <tr>\n",
       "      <th>2021-07-14T12:50:40Z</th>\n",
       "      <td>How China and India are helping shape the futu...</td>\n",
       "      <td>As the crypto payments\\r\\n market gains steam,...</td>\n",
       "      <td>0.8658</td>\n",
       "      <td>0.276</td>\n",
       "      <td>0.000</td>\n",
       "      <td>0.724</td>\n",
       "    </tr>\n",
       "    <tr>\n",
       "      <th>...</th>\n",
       "      <td>...</td>\n",
       "      <td>...</td>\n",
       "      <td>...</td>\n",
       "      <td>...</td>\n",
       "      <td>...</td>\n",
       "      <td>...</td>\n",
       "    </tr>\n",
       "    <tr>\n",
       "      <th>2021-06-16T22:32:00Z</th>\n",
       "      <td>U.S. regulator delays VanEck ETF bid, seeks vi...</td>\n",
       "      <td>Representations of the Bitcoin cryptocurrency ...</td>\n",
       "      <td>0.0000</td>\n",
       "      <td>0.000</td>\n",
       "      <td>0.000</td>\n",
       "      <td>1.000</td>\n",
       "    </tr>\n",
       "    <tr>\n",
       "      <th>2021-06-16T22:15:00Z</th>\n",
       "      <td>U.S. regulator delays VanEck ETF bid, seeks vi...</td>\n",
       "      <td>WASHINGTON, June 16 (Reuters) - U.S. regulator...</td>\n",
       "      <td>-0.2263</td>\n",
       "      <td>0.000</td>\n",
       "      <td>0.058</td>\n",
       "      <td>0.942</td>\n",
       "    </tr>\n",
       "    <tr>\n",
       "      <th>2021-06-16T17:34:00Z</th>\n",
       "      <td>El Salvador to keep dollar as legal tender, se...</td>\n",
       "      <td>SAN SALVADOR, June 16 (Reuters) - El Salvador ...</td>\n",
       "      <td>0.1280</td>\n",
       "      <td>0.043</td>\n",
       "      <td>0.000</td>\n",
       "      <td>0.957</td>\n",
       "    </tr>\n",
       "    <tr>\n",
       "      <th>2021-06-16T17:20:00Z</th>\n",
       "      <td>UPDATE 1-El Salvador to keep dollar as legal t...</td>\n",
       "      <td>By Reuters Staff\\r\\nSAN SALVADOR (Reuters) - E...</td>\n",
       "      <td>0.1280</td>\n",
       "      <td>0.045</td>\n",
       "      <td>0.000</td>\n",
       "      <td>0.955</td>\n",
       "    </tr>\n",
       "    <tr>\n",
       "      <th>2021-06-14T21:26:00Z</th>\n",
       "      <td>Crypto sees 2nd week of outflows; ether posts ...</td>\n",
       "      <td>Cryptocurrency investment products and funds s...</td>\n",
       "      <td>0.5267</td>\n",
       "      <td>0.136</td>\n",
       "      <td>0.000</td>\n",
       "      <td>0.864</td>\n",
       "    </tr>\n",
       "  </tbody>\n",
       "</table>\n",
       "<p>100 rows × 6 columns</p>\n",
       "</div>"
      ],
      "text/plain": [
       "                                                                  title  \\\n",
       "date                                                                      \n",
       "2021-07-15T16:25:09Z  Cathie Wood doubles down on defense of bitcoin...   \n",
       "2021-07-15T07:11:00Z  China's share of bitcoin mining slumped even b...   \n",
       "2021-07-15T07:02:00Z  China's share of bitcoin mining slumped even b...   \n",
       "2021-07-14T19:09:01Z  Crypto startup Phantom banks funding from Andr...   \n",
       "2021-07-14T12:50:40Z  How China and India are helping shape the futu...   \n",
       "...                                                                 ...   \n",
       "2021-06-16T22:32:00Z  U.S. regulator delays VanEck ETF bid, seeks vi...   \n",
       "2021-06-16T22:15:00Z  U.S. regulator delays VanEck ETF bid, seeks vi...   \n",
       "2021-06-16T17:34:00Z  El Salvador to keep dollar as legal tender, se...   \n",
       "2021-06-16T17:20:00Z  UPDATE 1-El Salvador to keep dollar as legal t...   \n",
       "2021-06-14T21:26:00Z  Crypto sees 2nd week of outflows; ether posts ...   \n",
       "\n",
       "                                                                   text  \\\n",
       "date                                                                      \n",
       "2021-07-15T16:25:09Z  ARK Invest\\r\\nCathie Wood doubled down on her ...   \n",
       "2021-07-15T07:11:00Z  A Chinese flag is seen among representations o...   \n",
       "2021-07-15T07:02:00Z  LONDON, July 15 (Reuters) - Chinas share of gl...   \n",
       "2021-07-14T19:09:01Z  While retail investors grew more comfortable b...   \n",
       "2021-07-14T12:50:40Z  As the crypto payments\\r\\n market gains steam,...   \n",
       "...                                                                 ...   \n",
       "2021-06-16T22:32:00Z  Representations of the Bitcoin cryptocurrency ...   \n",
       "2021-06-16T22:15:00Z  WASHINGTON, June 16 (Reuters) - U.S. regulator...   \n",
       "2021-06-16T17:34:00Z  SAN SALVADOR, June 16 (Reuters) - El Salvador ...   \n",
       "2021-06-16T17:20:00Z  By Reuters Staff\\r\\nSAN SALVADOR (Reuters) - E...   \n",
       "2021-06-14T21:26:00Z  Cryptocurrency investment products and funds s...   \n",
       "\n",
       "                      compound  positive  negative  neutral  \n",
       "date                                                         \n",
       "2021-07-15T16:25:09Z   -0.3400     0.045     0.087    0.868  \n",
       "2021-07-15T07:11:00Z    0.0000     0.000     0.000    1.000  \n",
       "2021-07-15T07:02:00Z    0.2960     0.068     0.000    0.932  \n",
       "2021-07-14T19:09:01Z    0.7264     0.164     0.000    0.836  \n",
       "2021-07-14T12:50:40Z    0.8658     0.276     0.000    0.724  \n",
       "...                        ...       ...       ...      ...  \n",
       "2021-06-16T22:32:00Z    0.0000     0.000     0.000    1.000  \n",
       "2021-06-16T22:15:00Z   -0.2263     0.000     0.058    0.942  \n",
       "2021-06-16T17:34:00Z    0.1280     0.043     0.000    0.957  \n",
       "2021-06-16T17:20:00Z    0.1280     0.045     0.000    0.955  \n",
       "2021-06-14T21:26:00Z    0.5267     0.136     0.000    0.864  \n",
       "\n",
       "[100 rows x 6 columns]"
      ]
     },
     "execution_count": 7,
     "metadata": {},
     "output_type": "execute_result"
    }
   ],
   "source": [
    "def getSentimentTable(headlines):\n",
    "    sentiments = []\n",
    "    \n",
    "    for article in headlines['articles']:\n",
    "        try:\n",
    "            title = article[\"title\"]\n",
    "            text = article[\"content\"]\n",
    "            date = article[\"publishedAt\"][:100]\n",
    "            sentiment = analyzer.polarity_scores(text)\n",
    "            compound = sentiment[\"compound\"]\n",
    "            pos = sentiment[\"pos\"]\n",
    "            neu = sentiment[\"neu\"]\n",
    "            neg = sentiment[\"neg\"]\n",
    "\n",
    "            sentiments.append({\n",
    "                \"title\": title,\n",
    "                \"text\": text,\n",
    "                \"date\": date,\n",
    "                \"compound\": compound,\n",
    "                \"positive\": pos,\n",
    "                \"negative\": neg,\n",
    "                \"neutral\": neu\n",
    "\n",
    "            })\n",
    "        except AttributeError:\n",
    "            pass\n",
    "    \n",
    "    sentiment_df = pd.DataFrame(sentiments)\n",
    "    cols = [\"date\", \"title\", \"text\", \"compound\", \"positive\", \"negative\", \"neutral\"]\n",
    "    sentiment_df = sentiment_df[cols]\n",
    "    sentiment_df = sentiment_df.set_index(sentiment_df['date']).drop('date',1)\n",
    "    sentiment_df = sentiment_df.sort_values(by=\"date\", ascending=False)\n",
    "    \n",
    "    \n",
    "    return sentiment_df\n",
    "\n",
    "# TEST:\n",
    "sentiment_df = getSentimentTable(top_headlines)\n",
    "sentiment_df"
   ]
  },
  {
   "cell_type": "code",
   "execution_count": 8,
   "metadata": {},
   "outputs": [
    {
     "data": {
      "text/plain": [
       "\"Cathie Wood doubles down on defense of bitcoin as environmentally conscious, and says there is 'nothing better' in terms of ESG\""
      ]
     },
     "execution_count": 8,
     "metadata": {},
     "output_type": "execute_result"
    }
   ],
   "source": [
    "sentiment_df['title'][0]"
   ]
  },
  {
   "cell_type": "code",
   "execution_count": 9,
   "metadata": {},
   "outputs": [],
   "source": [
    "headline_1 = sentiment_df['title'][0]\n",
    "headline_2 = sentiment_df['title'][1]\n",
    "headline_3 = sentiment_df['title'][2]\n",
    "headline_4 = sentiment_df['title'][3]\n",
    "headline_5 = sentiment_df['title'][4]"
   ]
  },
  {
   "cell_type": "code",
   "execution_count": 10,
   "metadata": {},
   "outputs": [
    {
     "name": "stdout",
     "output_type": "stream",
     "text": [
      "Here are the top headlines for bitcoin: ; \n",
      "            1) Cathie Wood doubles down on defense of bitcoin as environmentally conscious, and says there is 'nothing better' in terms of ESG ;\n",
      "            2) China's share of bitcoin mining slumped even before Beijing crackdown, research shows - Reuters ;\n",
      "            3) China's share of bitcoin mining slumped even before Beijing crackdown, research shows - Reuters ;\n",
      "            4) Crypto startup Phantom banks funding from Andreessen Horowitz to scale its multi-chain wallet ;\n",
      "            5) How China and India are helping shape the future of CBDCs and Bitcoin \n",
      "            \n",
      "            \n"
     ]
    }
   ],
   "source": [
    "message = \"\"\"Here are the top headlines for {}: ; \n",
    "            1) {} ;\n",
    "            2) {} ;\n",
    "            3) {} ;\n",
    "            4) {} ;\n",
    "            5) {} \n",
    "            \n",
    "            \"\"\".format(\n",
    "                investment,\n",
    "                headline_1,\n",
    "                headline_2,\n",
    "                headline_3,\n",
    "                headline_4,\n",
    "                headline_5\n",
    "            )\n",
    "\n",
    "print(message)"
   ]
  },
  {
   "cell_type": "code",
   "execution_count": 11,
   "metadata": {},
   "outputs": [
    {
     "data": {
      "text/plain": [
       "0.30964"
      ]
     },
     "execution_count": 11,
     "metadata": {},
     "output_type": "execute_result"
    }
   ],
   "source": [
    "combined_sentiment = sentiment_df['compound'][0:5].mean()\n",
    "combined_sentiment"
   ]
  },
  {
   "cell_type": "code",
   "execution_count": 12,
   "metadata": {},
   "outputs": [
    {
     "data": {
      "text/plain": [
       "'postive'"
      ]
     },
     "execution_count": 12,
     "metadata": {},
     "output_type": "execute_result"
    }
   ],
   "source": [
    "combined_sentiment = sentiment_df['compound'][0:5].mean()\n",
    "\n",
    "\n",
    "if combined_sentiment < - 0.05:\n",
    "    \n",
    "    sentiment = \"negative\"\n",
    "    \n",
    "elif combined_sentiment > 0.05:\n",
    "     \n",
    "    sentiment = \"postive\"\n",
    "    \n",
    "else: \n",
    "\n",
    "    sentiment = \"neutral\"\n",
    "\n",
    "\n",
    "sentiment"
   ]
  },
  {
   "cell_type": "code",
   "execution_count": null,
   "metadata": {},
   "outputs": [],
   "source": []
  }
 ],
 "metadata": {
  "kernelspec": {
   "display_name": "Python 3",
   "language": "python",
   "name": "python3"
  },
  "language_info": {
   "codemirror_mode": {
    "name": "ipython",
    "version": 3
   },
   "file_extension": ".py",
   "mimetype": "text/x-python",
   "name": "python",
   "nbconvert_exporter": "python",
   "pygments_lexer": "ipython3",
   "version": "3.7.7"
  }
 },
 "nbformat": 4,
 "nbformat_minor": 4
}
